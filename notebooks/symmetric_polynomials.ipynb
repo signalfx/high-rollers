{
 "cells": [
  {
   "cell_type": "markdown",
   "id": "141fee12-1e61-4d9b-a705-a080102f778f",
   "metadata": {},
   "source": [
    "### Uniform approach"
   ]
  },
  {
   "cell_type": "code",
   "execution_count": 36,
   "id": "2168db3b-714a-4e6d-8b4f-e823327e384c",
   "metadata": {},
   "outputs": [],
   "source": [
    "p_1 = 2 / 3.\n",
    "sum_P = p_1\n",
    "\n",
    "probs = [p_1]\n",
    "#sums = []\n",
    "#sums.append(sum_P)\n",
    "\n",
    "for i in range(100):\n",
    "    next_p = (sum_P / 2. + 1/3.) / (sum_P + 1/2.)\n",
    "    sum_P += next_p\n",
    "    probs.append(next_p)\n",
    "    #sums.append(sum_P / (len(sums) + 1))"
   ]
  },
  {
   "cell_type": "code",
   "execution_count": 37,
   "id": "5331ed23-7613-4b98-9d46-3417021c32a3",
   "metadata": {},
   "outputs": [
    {
     "data": {
      "text/plain": [
       "[0.5016901884081598,\n",
       " 0.5016731632835919,\n",
       " 0.501656478284476,\n",
       " 0.5016401233082008,\n",
       " 0.5016240886486488]"
      ]
     },
     "execution_count": 37,
     "metadata": {},
     "output_type": "execute_result"
    }
   ],
   "source": [
    "probs[-5:]"
   ]
  },
  {
   "cell_type": "code",
   "execution_count": 38,
   "id": "69b1e30e-be7c-4b07-8a77-5df63f139f16",
   "metadata": {},
   "outputs": [
    {
     "data": {
      "text/plain": [
       "[0.6666666666666666,\n",
       " 0.5714285714285715,\n",
       " 0.547945205479452,\n",
       " 0.5364531316878299,\n",
       " 0.5295247202911993]"
      ]
     },
     "execution_count": 38,
     "metadata": {},
     "output_type": "execute_result"
    }
   ],
   "source": [
    "probs[:5]"
   ]
  },
  {
   "cell_type": "code",
   "execution_count": 39,
   "id": "ba776405-ddf3-4b50-8537-d922052539c5",
   "metadata": {},
   "outputs": [],
   "source": [
    "averages = []\n",
    "cum_sum = 0\n",
    "\n",
    "for i, x in enumerate(probs):\n",
    "    cum_sum += x\n",
    "    averages.append( cum_sum/ (i + 1))"
   ]
  },
  {
   "cell_type": "code",
   "execution_count": 41,
   "id": "6258dda7-7d6b-475b-8a6f-f035a8e60869",
   "metadata": {},
   "outputs": [
    {
     "data": {
      "text/plain": [
       "[0.6666666666666666,\n",
       " 0.6190476190476191,\n",
       " 0.5953468145248967,\n",
       " 0.58062339381563,\n",
       " 0.5704036591107439,\n",
       " 0.5628131565826449,\n",
       " 0.5569105561718837,\n",
       " 0.5521650361446189,\n",
       " 0.5482519098639611,\n",
       " 0.5449601976418307,\n",
       " 0.5421462286929741,\n",
       " 0.5397084342203905,\n",
       " 0.5375727746989619,\n",
       " 0.5356838803956476,\n",
       " 0.5339994364332565,\n",
       " 0.5324864973326872,\n",
       " 0.5311189945506342,\n",
       " 0.5298760066769538,\n",
       " 0.5287405315003684,\n",
       " 0.5276985968058084,\n",
       " 0.5267386049726821,\n",
       " 0.5258508421972717,\n",
       " 0.5250271057196594,\n",
       " 0.5242604170108841,\n",
       " 0.523544798498289,\n",
       " 0.5228750978839677,\n",
       " 0.5222468485486463,\n",
       " 0.5216561576228705,\n",
       " 0.5210996154904624,\n",
       " 0.5205742220529319,\n",
       " 0.520077326217766,\n",
       " 0.5196065759058485,\n",
       " 0.5191598764907014,\n",
       " 0.5187353560448901,\n",
       " 0.5183313361188872,\n",
       " 0.5179463070447325,\n",
       " 0.5175789069622989,\n",
       " 0.5172279039252932,\n",
       " 0.5168921805685782,\n",
       " 0.5165707209162775,\n",
       " 0.5162625989876191,\n",
       " 0.5159669689191986,\n",
       " 0.5156830563718021,\n",
       " 0.5154101510297742,\n",
       " 0.5151476000331957,\n",
       " 0.5148948022094111,\n",
       " 0.5146512029919339,\n",
       " 0.5144162899324227,\n",
       " 0.5141895887259933,\n",
       " 0.5139706596822133,\n",
       " 0.5137590945841755,\n",
       " 0.5135545138864415,\n",
       " 0.5133565642096887,\n",
       " 0.5131649160958095,\n",
       " 0.5129792619922153,\n",
       " 0.5127993144383282,\n",
       " 0.5126248044308399,\n",
       " 0.5124554799473852,\n",
       " 0.5122911046108906,\n",
       " 0.5121314564791082,\n",
       " 0.5119763269457727,\n",
       " 0.5118255197414784,\n",
       " 0.5116788500238114,\n",
       " 0.5115361435475138,\n",
       " 0.5113972359065352,\n",
       " 0.5112619718407648,\n",
       " 0.511130204601055,\n",
       " 0.5110017953668633,\n",
       " 0.5108766127114632,\n",
       " 0.5107545321102248,\n",
       " 0.5106354354879459,\n",
       " 0.5105192108016424,\n",
       " 0.5104057516555798,\n",
       " 0.5102949569456559,\n",
       " 0.5101867305305438,\n",
       " 0.5100809809272596,\n",
       " 0.5099776210290515,\n",
       " 0.509876567843712,\n",
       " 0.5097777422506006,\n",
       " 0.5096810687748219,\n",
       " 0.5095864753771582,\n",
       " 0.5094938932584774,\n",
       " 0.5094032566774611,\n",
       " 0.5093145027806001,\n",
       " 0.5092275714434982,\n",
       " 0.5091424051226112,\n",
       " 0.5090589487166257,\n",
       " 0.5089771494367489,\n",
       " 0.5088969566852439,\n",
       " 0.5088183219416035,\n",
       " 0.5087411986558029,\n",
       " 0.5086655421481209,\n",
       " 0.5085913095150594,\n",
       " 0.5085184595409313,\n",
       " 0.508446952614718,\n",
       " 0.508376750651833,\n",
       " 0.5083078170204549,\n",
       " 0.5082401164721195,\n",
       " 0.5081736150762848,\n",
       " 0.5081082801586039,\n",
       " 0.5080440802426637]"
      ]
     },
     "execution_count": 41,
     "metadata": {},
     "output_type": "execute_result"
    }
   ],
   "source": [
    "averages"
   ]
  },
  {
   "cell_type": "code",
   "execution_count": 4,
   "id": "368254b4-376b-4648-89ca-5c4add3f7562",
   "metadata": {},
   "outputs": [],
   "source": [
    "n1, d1 = 1/3., 1/2.\n",
    "\n",
    "p1 = n1/d1\n",
    "\n",
    "\n",
    "n2, d2 = p1 * n1 + 1/4., p1 * d1 + n1\n",
    "\n",
    "\n",
    "p2 = n2/d2\n",
    "\n",
    "P2 = p1+ p2\n",
    "\n",
    "\n",
    "n3, d3 = P2 * n2 + p1 * (n2 - p1*n1) + 1/5, P2*d2 + n2\n",
    "\n",
    "p3 = n3/d3\n",
    "\n",
    "P3 = p3 + P2\n",
    "\n",
    "n4, d4 = P3*n3 + P2 *(n3 - P2*n2) + p1 / 5. + 1/6., P3 * d3 + n3\n",
    "\n",
    "p4 = n4/d4\n",
    "\n",
    "P4 = p4 + P3\n"
   ]
  },
  {
   "cell_type": "code",
   "execution_count": 5,
   "id": "b26e6346-d034-4e47-a7dc-a8e3d02c950a",
   "metadata": {},
   "outputs": [
    {
     "name": "stdout",
     "output_type": "stream",
     "text": [
      "0.6666666666666666 0.7083333333333334 0.7315 0.7469713706835801\n"
     ]
    }
   ],
   "source": [
    "print(p1, p2, p3, p4)"
   ]
  },
  {
   "cell_type": "code",
   "execution_count": 6,
   "id": "d847c9a1-2da0-47f0-a32b-66773b758c2c",
   "metadata": {},
   "outputs": [],
   "source": [
    "n5, d5 = P4 * n4 + P3 * (n4 - P3 * n3) + P2 * (n4 - P3 * n3 - P2 * (n3 - P2 * n2)) + p1/6. + 1/7., P4 * d4 + n4"
   ]
  },
  {
   "cell_type": "code",
   "execution_count": 7,
   "id": "d55dd5ba-5424-40f2-84f6-214a4fdbab25",
   "metadata": {},
   "outputs": [],
   "source": [
    "p5 = n5/d5"
   ]
  },
  {
   "cell_type": "code",
   "execution_count": 8,
   "id": "808cfddb-1e48-44bf-b099-ea6c3b6e6fd2",
   "metadata": {},
   "outputs": [
    {
     "data": {
      "text/plain": [
       "0.7583250450375054"
      ]
     },
     "execution_count": 8,
     "metadata": {},
     "output_type": "execute_result"
    }
   ],
   "source": [
    "p5"
   ]
  },
  {
   "cell_type": "code",
   "execution_count": 10,
   "id": "94bc64d2-b801-440f-a8a0-be4a722fd21c",
   "metadata": {},
   "outputs": [],
   "source": [
    "P5 = p5 + P4"
   ]
  },
  {
   "cell_type": "code",
   "execution_count": 11,
   "id": "6976db9c-bcf0-42d1-a872-4c08d2a8dcef",
   "metadata": {},
   "outputs": [
    {
     "data": {
      "text/plain": [
       "0.7223592831442172"
      ]
     },
     "execution_count": 11,
     "metadata": {},
     "output_type": "execute_result"
    }
   ],
   "source": [
    "P5/5"
   ]
  },
  {
   "cell_type": "code",
   "execution_count": 12,
   "id": "92d93eaa-c4d5-4e0e-adf1-b1614d1d8752",
   "metadata": {},
   "outputs": [
    {
     "data": {
      "text/plain": [
       "0.7315"
      ]
     },
     "execution_count": 12,
     "metadata": {},
     "output_type": "execute_result"
    }
   ],
   "source": [
    "1463/2000"
   ]
  },
  {
   "cell_type": "code",
   "execution_count": 13,
   "id": "2050f18f-e7af-4cbd-981c-91d4b7357dbf",
   "metadata": {},
   "outputs": [
    {
     "data": {
      "text/plain": [
       "0.7083333333333334"
      ]
     },
     "execution_count": 13,
     "metadata": {},
     "output_type": "execute_result"
    }
   ],
   "source": [
    "17/24."
   ]
  },
  {
   "cell_type": "code",
   "execution_count": 14,
   "id": "93cd492f-653c-4a9e-a113-fd4c7e8a6c96",
   "metadata": {},
   "outputs": [
    {
     "name": "stdout",
     "output_type": "stream",
     "text": [
      "0.04166666666666674 0.02316666666666667 0.015471370683580066 0.011353674353925314\n"
     ]
    }
   ],
   "source": [
    "print(p2-p1, p3-p2, p4-p3, p5-p4)"
   ]
  },
  {
   "cell_type": "code",
   "execution_count": 15,
   "id": "fd7591e1-aab6-42c7-be56-b150617b48c6",
   "metadata": {},
   "outputs": [
    {
     "name": "stdout",
     "output_type": "stream",
     "text": [
      "1.7985611510791397 1.4973894130307217 1.362675218726098\n"
     ]
    }
   ],
   "source": [
    "print((p2-p1)/(p3-p2), (p3-p2)/(p4-p3), (p4-p3)/(p5-p4))"
   ]
  },
  {
   "cell_type": "markdown",
   "id": "0d72c536-b536-4ddc-b1bc-7d85be689cf5",
   "metadata": {},
   "source": [
    "### Symmetric functions approach\n"
   ]
  },
  {
   "cell_type": "code",
   "execution_count": 58,
   "id": "1221629a-5e99-4843-b6d3-e14006c6b02c",
   "metadata": {},
   "outputs": [],
   "source": [
    "p1 = 2/3\n",
    "product = 1.\n",
    "P1 = p1\n",
    "product *= P1"
   ]
  },
  {
   "cell_type": "code",
   "execution_count": 59,
   "id": "effc3276-6bb9-4749-940c-23b520197a85",
   "metadata": {},
   "outputs": [],
   "source": [
    "symmetric_polys = [1.] # degree 0\n",
    "\n",
    "symmetric_polys.append(product) # add P1 in degree 1\n",
    "\n",
    "n2 = symmetric_polys[0] / 4. + symmetric_polys[1] / 3.\n",
    "d2 = symmetric_polys[0] / 3. + symmetric_polys[1] /2\n",
    "p2 = n2/d2"
   ]
  },
  {
   "cell_type": "code",
   "execution_count": 60,
   "id": "82619d2c-1745-4188-9db0-229c15a3046f",
   "metadata": {},
   "outputs": [],
   "source": [
    "P2 = P1 + p2\n",
    "product *= P2\n",
    "symmetric_polys.append(product) #1, P1, P1 * P2\n",
    "\n",
    "for i in range(1, len(symmetric_polys) - 1):\n",
    "    symmetric_polys[len(symmetric_polys) - i - 1] += P2 * symmetric_polys[len(symmetric_polys) - i - 2]\n",
    "    "
   ]
  },
  {
   "cell_type": "code",
   "execution_count": 61,
   "id": "7c5cfc1d-b1aa-4641-aea8-64dc11893ba5",
   "metadata": {},
   "outputs": [],
   "source": [
    "n3 = symmetric_polys[0]/5. + symmetric_polys[1] / 4. + symmetric_polys[2] / 3.\n",
    "d3 = symmetric_polys[0]/4. + symmetric_polys[1] / 3. + symmetric_polys[2] / 2."
   ]
  },
  {
   "cell_type": "code",
   "execution_count": 62,
   "id": "ab4838d2-fe50-4296-b26e-517bb7ae6644",
   "metadata": {},
   "outputs": [
    {
     "data": {
      "text/plain": [
       "[1.0, 2.0416666666666665, 0.9166666666666666]"
      ]
     },
     "execution_count": 62,
     "metadata": {},
     "output_type": "execute_result"
    }
   ],
   "source": [
    "symmetric_polys"
   ]
  },
  {
   "cell_type": "code",
   "execution_count": 63,
   "id": "8cf18dc4-9860-4ed6-a855-f63a916ee9ab",
   "metadata": {},
   "outputs": [
    {
     "data": {
      "text/plain": [
       "(0.6666666666666666, 1.375)"
      ]
     },
     "execution_count": 63,
     "metadata": {},
     "output_type": "execute_result"
    }
   ],
   "source": [
    "P1, P2"
   ]
  },
  {
   "cell_type": "code",
   "execution_count": 64,
   "id": "461ffcd8-999d-4b23-bf6d-a1990b8e3e33",
   "metadata": {},
   "outputs": [
    {
     "data": {
      "text/plain": [
       "1.375"
      ]
     },
     "execution_count": 64,
     "metadata": {},
     "output_type": "execute_result"
    }
   ],
   "source": [
    "P1 + 17/24."
   ]
  },
  {
   "cell_type": "code",
   "execution_count": 65,
   "id": "210bbe6a-9df5-454e-83fe-05a069d8e22f",
   "metadata": {},
   "outputs": [],
   "source": [
    "p3 = n3/d3"
   ]
  },
  {
   "cell_type": "code",
   "execution_count": 66,
   "id": "0322349d-5666-49ad-b89c-2c4a9616e013",
   "metadata": {},
   "outputs": [
    {
     "name": "stdout",
     "output_type": "stream",
     "text": [
      "0.7315\n"
     ]
    }
   ],
   "source": [
    "print(p3)"
   ]
  },
  {
   "cell_type": "code",
   "execution_count": null,
   "id": "6c79afb9-f807-448f-92a6-f9eb49d2662b",
   "metadata": {},
   "outputs": [],
   "source": []
  },
  {
   "cell_type": "code",
   "execution_count": 67,
   "id": "054bf7f6-d680-4a41-993e-f2de30a9f55d",
   "metadata": {},
   "outputs": [],
   "source": [
    "P3 = p3 + P2\n",
    "product *= P3\n",
    "symmetric_polys.append(product)\n",
    "\n",
    "for i in range(1, len(symmetric_polys) - 1):\n",
    "    symmetric_polys[len(symmetric_polys) - i - 1] += P3 * symmetric_polys[len(symmetric_polys) - i - 2]\n",
    "    \n",
    "num = sum([symmetric_polys[i] / (len(symmetric_polys) - i + 2) for i in range(len(symmetric_polys))])\n",
    "den = sum([symmetric_polys[i] / (len(symmetric_polys) - i + 1) for i in range(len(symmetric_polys))])\n",
    "p = num/den\n",
    "\n",
    "P"
   ]
  },
  {
   "cell_type": "code",
   "execution_count": 68,
   "id": "7dfd510e-deae-46fb-8364-25928f1d6f2a",
   "metadata": {},
   "outputs": [],
   "source": [
    "n4 = symmetric_polys[0]/6. + symmetric_polys[1] / 5. + symmetric_polys[2] / 4.+ symmetric_polys[3] / 3.\n",
    "d4 = symmetric_polys[0]/5. + symmetric_polys[1] / 4. + symmetric_polys[2] / 3.+ symmetric_polys[3] / 2."
   ]
  },
  {
   "cell_type": "code",
   "execution_count": 71,
   "id": "8cda7534-4246-42ce-9570-190297827d83",
   "metadata": {},
   "outputs": [
    {
     "data": {
      "text/plain": [
       "[1.0, 4.148166666666667, 5.2174375, 1.9309583333333333]"
      ]
     },
     "execution_count": 71,
     "metadata": {},
     "output_type": "execute_result"
    }
   ],
   "source": [
    "symmetric_polys"
   ]
  },
  {
   "cell_type": "code",
   "execution_count": 69,
   "id": "bad3c29b-7caa-4f04-ae62-ddcb8eb07841",
   "metadata": {},
   "outputs": [],
   "source": [
    "p4 = n4/d4"
   ]
  },
  {
   "cell_type": "code",
   "execution_count": 70,
   "id": "84561f53-c728-4f91-90f6-8c8a54258e31",
   "metadata": {},
   "outputs": [
    {
     "data": {
      "text/plain": [
       "0.74697137068358"
      ]
     },
     "execution_count": 70,
     "metadata": {},
     "output_type": "execute_result"
    }
   ],
   "source": [
    "p4"
   ]
  },
  {
   "cell_type": "code",
   "execution_count": 32,
   "id": "7e2608a9-8db3-4923-9e2a-0fff57a061d9",
   "metadata": {},
   "outputs": [],
   "source": [
    "p = 2/3\n",
    "product = 1.\n",
    "P = p\n",
    "product *= P\n",
    "\n",
    "symmetric_polys = [1.] # degree 0\n",
    "\n",
    "symmetric_polys.append(product) # add P in degree 1\n"
   ]
  },
  {
   "cell_type": "code",
   "execution_count": 33,
   "id": "cf906321-0c29-4847-a8cf-4bbbd91f2ff8",
   "metadata": {},
   "outputs": [],
   "source": [
    "averages = []\n",
    "\n",
    "for j in range(100):\n",
    "    for i in range(1, len(symmetric_polys) - 1):\n",
    "        symmetric_polys[len(symmetric_polys) - i - 1] += P * symmetric_polys[len(symmetric_polys) - i - 2]\n",
    "\n",
    "    num = sum([symmetric_polys[i] / (len(symmetric_polys) - i + 2) for i in range(len(symmetric_polys))])\n",
    "    den = sum([symmetric_polys[i] / (len(symmetric_polys) - i + 1) for i in range(len(symmetric_polys))])\n",
    "    p = num/den\n",
    "    P += p\n",
    "    averages.append(P / (len(symmetric_polys)))\n",
    "    product *= P\n",
    "    symmetric_polys.append(product)"
   ]
  },
  {
   "cell_type": "code",
   "execution_count": 34,
   "id": "ddf78b9a-5a34-40ee-8619-df2ab78e5fa3",
   "metadata": {},
   "outputs": [
    {
     "data": {
      "text/plain": [
       "[0.6875,\n",
       " 0.7021666666666667,\n",
       " 0.713367842670895,\n",
       " 0.7223592831442172,\n",
       " 0.729825589879035,\n",
       " 0.7361800079993834,\n",
       " 0.7416904679433048,\n",
       " 0.7465401771911998,\n",
       " 0.7508596882545201,\n",
       " 0.7547451530895231,\n",
       " 0.7582693273512997,\n",
       " 0.7614885191293824,\n",
       " 0.7644471485286927,\n",
       " 0.767180837856829,\n",
       " 0.7697185646056481,\n",
       " 0.7720841977275698,\n",
       " 0.7742976169761486,\n",
       " 0.7763755436089365,\n",
       " 0.7783321670424435,\n",
       " 0.7801796245437321,\n",
       " 0.7819283732893052,\n",
       " 0.7835874823993901,\n",
       " 0.7851648646559671,\n",
       " 0.7866674621901325,\n",
       " 0.7881013966389733,\n",
       " 0.7894720915888891,\n",
       " 0.7907843731933991,\n",
       " 0.7920425534488075,\n",
       " 0.7932504995759053,\n",
       " 0.7944116921844832,\n",
       " 0.7955292743166669,\n",
       " 0.7966060930236414,\n",
       " 0.7976447347917581,\n",
       " 0.798647555872176,\n",
       " 0.799616708364076,\n",
       " 0.8005541627412109,\n",
       " 0.8014617273848037,\n",
       " 0.8023410655849295,\n",
       " 0.8031937103917122,\n",
       " 0.8040210776325765,\n",
       " 0.8048244773590573,\n",
       " 0.8056051239437209,\n",
       " 0.8063641450125995,\n",
       " 0.8071025893696225,\n",
       " 0.8078214340456459,\n",
       " 0.8085215905848517,\n",
       " 0.8092039106647789,\n",
       " 0.809869191132422,\n",
       " 0.8105181785272343,\n",
       " 0.8111515731520916,\n",
       " 0.8117700327449977,\n",
       " 0.8123741757972957,\n",
       " 0.812964584558173,\n",
       " 0.8135418077601441,\n",
       " 0.8141063630958189,\n",
       " 0.8146587394725203,\n",
       " 0.8151993990680675,\n",
       " 0.8157287792082561,\n",
       " 0.816247294084146,\n",
       " 0.8167553363251643,\n",
       " 0.8172532784422105,\n",
       " 0.8177414741533489,\n",
       " 0.8182202596032885,\n",
       " 0.8186899544866273,\n",
       " 0.8191508630837645,\n",
       " 0.8196032752174461,\n",
       " 0.820047467137078,\n",
       " 0.8204837023372046,\n",
       " 0.8209122323159075,\n",
       " 0.8213332972782978,\n",
       " 0.8217471267897724,\n",
       " 0.8221539403832429,\n",
       " 0.8225539481241481,\n",
       " 0.8229473511366975,\n",
       " 0.8233343420944691,\n",
       " 0.8237151056782004,\n",
       " 0.8240898190033497,\n",
       " 0.8244586520197745,\n",
       " 0.8248217678856633,\n",
       " 0.825179323317672,\n",
       " 0.825531468919044,\n",
       " 0.8258783494873443,\n",
       " 0.8262201043032934,\n",
       " 0.8265568674020713,\n",
       " 0.8268887678283384,\n",
       " 0.8272159298761268,\n",
       " 0.8275384733146559,\n",
       " 0.8278565136010461,\n",
       " 0.8281701620808234,\n",
       " 0.828479526177041,\n",
       " 0.8287847095687794,\n",
       " 0.8290858123597242,\n",
       " 0.8293829312374758,\n",
       " 0.8296761596241855,\n",
       " 0.8299655878190806,\n",
       " 0.8302513031333857,\n",
       " 0.8305333900181248,\n",
       " 0.8308119301852416,\n",
       " 0.8310870027224531,\n",
       " 0.8313586842022163]"
      ]
     },
     "execution_count": 34,
     "metadata": {},
     "output_type": "execute_result"
    }
   ],
   "source": [
    "averages"
   ]
  }
 ],
 "metadata": {
  "kernelspec": {
   "display_name": "Python 3",
   "language": "python",
   "name": "python3"
  },
  "language_info": {
   "codemirror_mode": {
    "name": "ipython",
    "version": 3
   },
   "file_extension": ".py",
   "mimetype": "text/x-python",
   "name": "python",
   "nbconvert_exporter": "python",
   "pygments_lexer": "ipython3",
   "version": "3.8.5"
  }
 },
 "nbformat": 4,
 "nbformat_minor": 5
}
